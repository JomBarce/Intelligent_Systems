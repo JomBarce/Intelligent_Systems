{
 "cells": [
  {
   "cell_type": "markdown",
   "metadata": {},
   "source": [
    "This is a copy of the original submision from the github library: https://github.com/JomBarce/BoostedTreeExercise"
   ]
  },
  {
   "cell_type": "markdown",
   "metadata": {},
   "source": [
    "### Import Libraries"
   ]
  },
  {
   "cell_type": "code",
   "execution_count": 1,
   "metadata": {},
   "outputs": [],
   "source": [
    "import pandas as pd\n",
    "from sklearn.model_selection import train_test_split\n",
    "from sklearn.preprocessing import LabelEncoder\n",
    "from sklearn.metrics import classification_report\n",
    "from xgboost import XGBClassifier\n",
    "from catboost import CatBoostClassifier"
   ]
  },
  {
   "cell_type": "markdown",
   "metadata": {},
   "source": [
    "### Import Dataset"
   ]
  },
  {
   "cell_type": "code",
   "execution_count": 2,
   "metadata": {},
   "outputs": [],
   "source": [
    "url = \"http://archive.ics.uci.edu/ml/machine-learning-databases/car/car.data\"\n",
    "columns = ['buying', 'maint', 'doors', 'persons', 'lug_boot', 'safety', 'class']\n",
    "df = pd.read_csv(url, names=columns)"
   ]
  },
  {
   "cell_type": "markdown",
   "metadata": {},
   "source": [
    "### Preprocessing"
   ]
  },
  {
   "cell_type": "code",
   "execution_count": 3,
   "metadata": {},
   "outputs": [],
   "source": [
    "# Convert categorical variables to numerical\n",
    "df_encoded = pd.get_dummies(df, columns=['buying', 'maint', 'doors', 'persons', 'lug_boot', 'safety'])\n",
    "\n",
    "# Split the data into features (X) and target variable (y)\n",
    "X = df_encoded.drop('class', axis=1)\n",
    "y = df_encoded['class']\n",
    "\n",
    "# Label encoding for the target variable\n",
    "label_encoder = LabelEncoder()\n",
    "y_encoded = label_encoder.fit_transform(y)\n",
    "\n",
    "# Split the data into training and testing sets\n",
    "X_train, X_test, y_train, y_test = train_test_split(X, y_encoded, test_size=0.2, random_state=42)"
   ]
  },
  {
   "cell_type": "markdown",
   "metadata": {},
   "source": [
    "### 1. Apply XGBoost classifier"
   ]
  },
  {
   "cell_type": "code",
   "execution_count": 4,
   "metadata": {},
   "outputs": [
    {
     "name": "stdout",
     "output_type": "stream",
     "text": [
      "Classification Report for XGBoost:\n",
      "              precision    recall  f1-score   support\n",
      "\n",
      "           0       1.00      0.92      0.96        83\n",
      "           1       0.61      1.00      0.76        11\n",
      "           2       1.00      1.00      1.00       235\n",
      "           3       1.00      1.00      1.00        17\n",
      "\n",
      "    accuracy                           0.98       346\n",
      "   macro avg       0.90      0.98      0.93       346\n",
      "weighted avg       0.99      0.98      0.98       346\n",
      "\n"
     ]
    }
   ],
   "source": [
    "# XGBoost classifier\n",
    "xgb_classifier = XGBClassifier(objective='multi:softmax')\n",
    "xgb_classifier.fit(X_train, y_train)\n",
    "y_pred_xgb = xgb_classifier.predict(X_test)\n",
    "\n",
    "# Print classification report\n",
    "print(\"Classification Report for XGBoost:\")\n",
    "print(classification_report(y_test, y_pred_xgb))"
   ]
  },
  {
   "cell_type": "markdown",
   "metadata": {},
   "source": [
    "### 2. Apply CatBoost classifier"
   ]
  },
  {
   "cell_type": "code",
   "execution_count": 5,
   "metadata": {},
   "outputs": [
    {
     "name": "stdout",
     "output_type": "stream",
     "text": [
      "0:\tlearn: 0.9474975\ttotal: 135ms\tremaining: 20.2s\n",
      "15:\tlearn: 0.2026547\ttotal: 196ms\tremaining: 1.64s\n",
      "30:\tlearn: 0.1136741\ttotal: 228ms\tremaining: 874ms\n",
      "45:\tlearn: 0.0760837\ttotal: 259ms\tremaining: 586ms\n",
      "60:\tlearn: 0.0548474\ttotal: 290ms\tremaining: 423ms\n",
      "75:\tlearn: 0.0425822\ttotal: 321ms\tremaining: 312ms\n",
      "90:\tlearn: 0.0346446\ttotal: 351ms\tremaining: 228ms\n",
      "105:\tlearn: 0.0287692\ttotal: 388ms\tremaining: 161ms\n",
      "120:\tlearn: 0.0247338\ttotal: 421ms\tremaining: 101ms\n",
      "135:\tlearn: 0.0219709\ttotal: 453ms\tremaining: 46.6ms\n",
      "149:\tlearn: 0.0195640\ttotal: 482ms\tremaining: 0us\n",
      "Classification Report for CatBoost:\n",
      "              precision    recall  f1-score   support\n",
      "\n",
      "           0       1.00      0.92      0.96        83\n",
      "           1       0.59      0.91      0.71        11\n",
      "           2       1.00      1.00      1.00       235\n",
      "           3       0.94      1.00      0.97        17\n",
      "\n",
      "    accuracy                           0.98       346\n",
      "   macro avg       0.88      0.96      0.91       346\n",
      "weighted avg       0.98      0.98      0.98       346\n",
      "\n"
     ]
    }
   ],
   "source": [
    "# CatBoost classifier\n",
    "cat_classifier = CatBoostClassifier(iterations=150, depth=5, learning_rate=0.3, loss_function='MultiClass', verbose=15)\n",
    "cat_classifier.fit(X_train, y_train)\n",
    "y_pred_cat = cat_classifier.predict(X_test)\n",
    "\n",
    "# Print classification report\n",
    "print(\"Classification Report for CatBoost:\")\n",
    "print(classification_report(y_test, y_pred_cat))"
   ]
  },
  {
   "cell_type": "markdown",
   "metadata": {},
   "source": [
    "### 3. Compare the Overall Accuracy"
   ]
  },
  {
   "cell_type": "code",
   "execution_count": 6,
   "metadata": {},
   "outputs": [
    {
     "name": "stdout",
     "output_type": "stream",
     "text": [
      "Overall Accuracy - XGBoost: 0.9797687861271677\n",
      "Overall Accuracy - CatBoost: 0.518109525877911\n"
     ]
    }
   ],
   "source": [
    "# Compare accuracy\n",
    "accuracy_xgb = (y_test == y_pred_xgb).mean()\n",
    "accuracy_cat = (y_test == y_pred_cat).mean()\n",
    "\n",
    "print(f\"Overall Accuracy - XGBoost: {accuracy_xgb}\")\n",
    "print(f\"Overall Accuracy - CatBoost: {accuracy_cat}\")"
   ]
  },
  {
   "cell_type": "code",
   "execution_count": null,
   "metadata": {},
   "outputs": [],
   "source": []
  }
 ],
 "metadata": {
  "kernelspec": {
   "display_name": "Python 3",
   "language": "python",
   "name": "python3"
  },
  "language_info": {
   "codemirror_mode": {
    "name": "ipython",
    "version": 3
   },
   "file_extension": ".py",
   "mimetype": "text/x-python",
   "name": "python",
   "nbconvert_exporter": "python",
   "pygments_lexer": "ipython3",
   "version": "3.11.5"
  }
 },
 "nbformat": 4,
 "nbformat_minor": 2
}
